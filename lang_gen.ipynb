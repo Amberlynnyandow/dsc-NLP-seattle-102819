{
 "cells": [
  {
   "cell_type": "markdown",
   "metadata": {},
   "source": [
    "# Markov Chain Text Generation"
   ]
  },
  {
   "cell_type": "markdown",
   "metadata": {},
   "source": [
    "A brute force solution. Shannon proposed an interesting scheme to generate text according to a Markov model of order 1.\n",
    "\n",
    "To construct [an order 1 model] for example:\n",
    "1. Open a book at random and selects a letter at random on the page and record the letter. \n",
    "2. The book is then opened to another page and one reads until this letter is encountered. The succeeding letter is then recorded. \n",
    "3. Turning to another page this second letter is searched for and the succeeding letter recorded, etc. \n",
    "\n",
    "It would be interesting if further approximations could be constructed, but the labor involved becomes enormous at the next stage."
   ]
  },
  {
   "cell_type": "code",
   "execution_count": 6,
   "metadata": {},
   "outputs": [
    {
     "data": {
      "text/plain": [
       "'ice-brook, an agony of those provided that no one night, as, half shrouded in our work of london.'"
      ]
     },
     "execution_count": 6,
     "metadata": {},
     "output_type": "execute_result"
    }
   ],
   "source": [
    "import author\n",
    "\n",
    "stoker = author.Author()\n",
    "\n",
    "stoker.read_text(path='data/dracula.txt')\n",
    "\n",
    "stoker.create_sentence()"
   ]
  },
  {
   "cell_type": "code",
   "execution_count": 7,
   "metadata": {},
   "outputs": [],
   "source": [
    "# Add another book, the critique of pure reason, to the text generator for a mix of gothic horror and philosohpy\n",
    "stoker.add_text('data/pure_reason.txt')"
   ]
  },
  {
   "cell_type": "code",
   "execution_count": 8,
   "metadata": {},
   "outputs": [
    {
     "data": {
      "text/plain": [
       "\"in her for on us invoices and within the drawing-room i shall know it is now satisfied: that we need of poor fellow was full terms of blood, and said at the earths' and when i can't hazard a shudder.\""
      ]
     },
     "execution_count": 8,
     "metadata": {},
     "output_type": "execute_result"
    }
   ],
   "source": [
    "stoker.create_sentence()"
   ]
  },
  {
   "cell_type": "code",
   "execution_count": 10,
   "metadata": {},
   "outputs": [
    {
     "name": "stdout",
     "output_type": "stream",
     "text": [
      "this was tall wax candles showing a bone.\n",
      "\n",
      "sent me you must tell her to the dracula landed, so rare, and went out, as on whose remarkable ruddiness showed it smelt of the sound was just rights, for a copy of delightful it would be; for i had become, to take us that thick rope; these we came on the book that i am told, she hadn't gone back that my latest and that the centrifugal; when we were howling; and rested.\n",
      "\n",
      "i could not be an agreement for their graves of lethargy seemed to her.\n"
     ]
    }
   ],
   "source": [
    "print(stoker.create_paragraph())"
   ]
  },
  {
   "cell_type": "code",
   "execution_count": null,
   "metadata": {},
   "outputs": [],
   "source": []
  }
 ],
 "metadata": {
  "kernelspec": {
   "display_name": "Python 3",
   "language": "python",
   "name": "python3"
  },
  "language_info": {
   "codemirror_mode": {
    "name": "ipython",
    "version": 3
   },
   "file_extension": ".py",
   "mimetype": "text/x-python",
   "name": "python",
   "nbconvert_exporter": "python",
   "pygments_lexer": "ipython3",
   "version": "3.7.3"
  }
 },
 "nbformat": 4,
 "nbformat_minor": 2
}
